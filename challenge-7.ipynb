{
  "cells": [
    {
      "cell_type": "markdown",
      "metadata": {
        "id": "view-in-github",
        "colab_type": "text"
      },
      "source": [
        "<a href=\"https://colab.research.google.com/github/ISE-CS4445-AI/challenge-7-Nanda128/blob/main/challenge-7.ipynb\" target=\"_parent\"><img src=\"https://colab.research.google.com/assets/colab-badge.svg\" alt=\"Open In Colab\"/></a>"
      ]
    },
    {
      "cell_type": "markdown",
      "metadata": {
        "id": "cSNohoRf9Wum"
      },
      "source": [
        "# Challenge #7: Interpretability and explainable ML\n",
        "\n",
        "In this assignment, you will explore explainability using LIME on image classification. Your tasks are:\n",
        "\n",
        "1. **get_lime_explanation: (3 points)**  \n",
        "   Given a pretrained image classifier and an input image, generate a LIME explanation object.\n",
        "\n",
        "2. **display_lime_explanation: (1 point)**  \n",
        "   From the explanation object, extract and return a visualization (image and mask overlay) that highlights important superpixels.\n",
        "\n",
        "3. **extract_feature_importance: (1 point)**  \n",
        "   Extract a list of important feature (superpixel) contributions from the explanation object, sorted by importance.\n",
        "\n",
        "4. **Task 4:** Apply a pretrained ResNet model on an input image and use LIME to generate and display explanations for the top 5 predicted classes.\n",
        "\n",
        "After coding, answer three brief reflection questions on explainability methods.\n",
        "\n",
        "*Total points: 9 (6 points for code tasks and 3 points for reflection questions).*\n",
        "\n",
        "---"
      ]
    },
    {
      "cell_type": "markdown",
      "metadata": {
        "id": "UKbUdT4DbNrN"
      },
      "source": [
        "## Background on LIME\n",
        "\n",
        "LIME (Local Interpretable Model-agnostic Explanations) is a popular method for explaining predictions of any classifier. For image classification, LIME works by:\n",
        "- Perturbing the input image by turning superpixels on/off.\n",
        "- Evaluating how these perturbations affect the prediction.\n",
        "- Fitting a local, interpretable linear model to approximate the classifier's behavior near the instance.\n",
        "\n",
        "The result is an explanation object that can produce:\n",
        "- A list of feature contributions.\n",
        "- A visualization (image with a mask overlay) highlighting which superpixels had the greatest influence on the prediction.\n",
        "\n",
        "**Additional resources:**  \n",
        "[Official LIME blog post](https://www.oreilly.com/content/introduction-to-local-interpretable-model-agnostic-explanations-lime/)  \n",
        "[Tutorial notebooks on their official GitHub repository](https://github.com/marcotcr/lime/tree/master/doc/notebooks)  \n",
        "[General article reading about explainable machine learning | Medium](https://medium.com/michelle-and-ryan-explain-ml/explainable-and-interpretable-machine-learning-7e7c28bba4f2)"
      ]
    },
    {
      "cell_type": "markdown",
      "metadata": {
        "id": "8UM1fVyy9Wun"
      },
      "source": [
        "## Imports & Setup"
      ]
    },
    {
      "cell_type": "code",
      "execution_count": 17,
      "metadata": {
        "colab": {
          "base_uri": "https://localhost:8080/"
        },
        "id": "tRk7jnhJbNrP",
        "outputId": "d932557b-c36d-4591-80bf-dc19a535995f"
      },
      "outputs": [
        {
          "output_type": "stream",
          "name": "stdout",
          "text": [
            "Requirement already satisfied: lime in /usr/local/lib/python3.11/dist-packages (0.2.0.1)\n",
            "Requirement already satisfied: matplotlib in /usr/local/lib/python3.11/dist-packages (from lime) (3.10.0)\n",
            "Requirement already satisfied: numpy in /usr/local/lib/python3.11/dist-packages (from lime) (1.26.4)\n",
            "Requirement already satisfied: scipy in /usr/local/lib/python3.11/dist-packages (from lime) (1.13.1)\n",
            "Requirement already satisfied: tqdm in /usr/local/lib/python3.11/dist-packages (from lime) (4.67.1)\n",
            "Requirement already satisfied: scikit-learn>=0.18 in /usr/local/lib/python3.11/dist-packages (from lime) (1.6.1)\n",
            "Requirement already satisfied: scikit-image>=0.12 in /usr/local/lib/python3.11/dist-packages (from lime) (0.25.2)\n",
            "Requirement already satisfied: networkx>=3.0 in /usr/local/lib/python3.11/dist-packages (from scikit-image>=0.12->lime) (3.4.2)\n",
            "Requirement already satisfied: pillow>=10.1 in /usr/local/lib/python3.11/dist-packages (from scikit-image>=0.12->lime) (11.1.0)\n",
            "Requirement already satisfied: imageio!=2.35.0,>=2.33 in /usr/local/lib/python3.11/dist-packages (from scikit-image>=0.12->lime) (2.37.0)\n",
            "Requirement already satisfied: tifffile>=2022.8.12 in /usr/local/lib/python3.11/dist-packages (from scikit-image>=0.12->lime) (2025.2.18)\n",
            "Requirement already satisfied: packaging>=21 in /usr/local/lib/python3.11/dist-packages (from scikit-image>=0.12->lime) (24.2)\n",
            "Requirement already satisfied: lazy-loader>=0.4 in /usr/local/lib/python3.11/dist-packages (from scikit-image>=0.12->lime) (0.4)\n",
            "Requirement already satisfied: joblib>=1.2.0 in /usr/local/lib/python3.11/dist-packages (from scikit-learn>=0.18->lime) (1.4.2)\n",
            "Requirement already satisfied: threadpoolctl>=3.1.0 in /usr/local/lib/python3.11/dist-packages (from scikit-learn>=0.18->lime) (3.5.0)\n",
            "Requirement already satisfied: contourpy>=1.0.1 in /usr/local/lib/python3.11/dist-packages (from matplotlib->lime) (1.3.1)\n",
            "Requirement already satisfied: cycler>=0.10 in /usr/local/lib/python3.11/dist-packages (from matplotlib->lime) (0.12.1)\n",
            "Requirement already satisfied: fonttools>=4.22.0 in /usr/local/lib/python3.11/dist-packages (from matplotlib->lime) (4.56.0)\n",
            "Requirement already satisfied: kiwisolver>=1.3.1 in /usr/local/lib/python3.11/dist-packages (from matplotlib->lime) (1.4.8)\n",
            "Requirement already satisfied: pyparsing>=2.3.1 in /usr/local/lib/python3.11/dist-packages (from matplotlib->lime) (3.2.1)\n",
            "Requirement already satisfied: python-dateutil>=2.7 in /usr/local/lib/python3.11/dist-packages (from matplotlib->lime) (2.8.2)\n",
            "Requirement already satisfied: six>=1.5 in /usr/local/lib/python3.11/dist-packages (from python-dateutil>=2.7->matplotlib->lime) (1.17.0)\n"
          ]
        }
      ],
      "source": [
        "!pip install lime"
      ]
    },
    {
      "cell_type": "code",
      "execution_count": 18,
      "metadata": {
        "id": "LfptRzGQ9Wuo",
        "colab": {
          "base_uri": "https://localhost:8080/"
        },
        "outputId": "9f968a9d-eb27-4e1b-b4c3-e12808810597"
      },
      "outputs": [
        {
          "output_type": "stream",
          "name": "stdout",
          "text": [
            "Torch version: 2.5.1+cu124\n",
            "Using device: cuda\n"
          ]
        }
      ],
      "source": [
        "from lime import lime_image\n",
        "import torch\n",
        "from torchvision import transforms\n",
        "from torchvision.models import resnet18, ResNet18_Weights\n",
        "from PIL import Image\n",
        "import numpy as np\n",
        "import matplotlib.pyplot as plt\n",
        "from skimage.segmentation import mark_boundaries\n",
        "import cv2\n",
        "import json\n",
        "\n",
        "print(\"Torch version:\", torch.__version__)\n",
        "device = 'cuda' if torch.cuda.is_available() else 'cpu'\n",
        "print(\"Using device:\", device)"
      ]
    },
    {
      "cell_type": "markdown",
      "metadata": {
        "id": "WGhzcybk9Wuo"
      },
      "source": [
        "## Task 1: Get LIME Explanation <font color='green'>(3 points)</font>\n",
        "\n",
        "Generate and return a LIME explanation object for the given image and model."
      ]
    },
    {
      "cell_type": "code",
      "execution_count": 19,
      "metadata": {
        "id": "GNF9J7iy9Wuo"
      },
      "outputs": [],
      "source": [
        "def get_lime_explanation(model: torch.nn.Module, image: np.ndarray, top_labels: int = 5, num_samples: int = 1000):\n",
        "    \"\"\"\n",
        "    Generate and return a LIME explanation object for the given image and model.\n",
        "\n",
        "    Parameters:\n",
        "        model (torch.nn.Module): A pretrained image classification model.\n",
        "        image (np.ndarray): Input image in numpy array format (H x W x C).\n",
        "        top_labels (int): Number of top labels to consider.\n",
        "        num_samples (int): Number of perturbed samples to generate.\n",
        "\n",
        "    Returns:\n",
        "        explanation: A LIME explanation object (as returned by lime_image.LimeImageExplainer.explain_instance).\n",
        "    \"\"\"\n",
        "    # DONE: Create an instance of LimeImageExplainer.\n",
        "    explainer = lime_image.LimeImageExplainer()\n",
        "\n",
        "    # DONE: Define a prediction function that accepts a batch of images as numpy arrays and returns prediction probabilities.\n",
        "    def predict(images):\n",
        "        # Convert images to torch tensors, preprocess them, and obtain predictions.\n",
        "        # DONE: Implement the necessary transformation and model inference.\n",
        "        model.eval()\n",
        "        preprocess = transforms.Compose([\n",
        "            transforms.ToPILImage(),\n",
        "            transforms.Resize((224, 224)),\n",
        "            transforms.ToTensor(),\n",
        "            transforms.Normalize(mean=[0.485, 0.456, 0.406], std=[0.229, 0.224, 0.225])\n",
        "        ])\n",
        "        batch = torch.stack([preprocess(image) for image in images], dim=0).to(device)\n",
        "        # Move the model to the same device as the input batch:\n",
        "        model.to(batch.device)\n",
        "        with torch.no_grad():\n",
        "            outputs = model(batch)\n",
        "            probabilities = torch.nn.functional.softmax(outputs, dim=1).cpu().numpy()\n",
        "        return probabilities\n",
        "\n",
        "    # DONE: Use the explainer to generate an explanation for the image.\n",
        "    explanation = explainer.explain_instance(image, predict, top_labels=top_labels, num_samples=num_samples)\n",
        "\n",
        "    return explanation"
      ]
    },
    {
      "cell_type": "markdown",
      "metadata": {
        "id": "EJQ2coP99Wuo"
      },
      "source": [
        "## Task 2: Display LIME Explanation <font color='green'>(1 point)</font>\n",
        "\n",
        "Implement a function that extracts and returns the visualization of the LIME explanation. This function should use the explanation object's method (such as `get_image_and_mask`) to generate an image with an overlay mask that highlights the most important superpixels.\n",
        "\n",
        "The output should be a tuple: (explanation_image, mask), which you can then display using matplotlib."
      ]
    },
    {
      "cell_type": "code",
      "execution_count": 20,
      "metadata": {
        "id": "F4db54aV9Wup"
      },
      "outputs": [],
      "source": [
        "# Utility function to visualise the LIME explanation\n",
        "def visualiseExplanation(explanation_image, mask):\n",
        "    # show the image boundary\n",
        "    img_boundry = mark_boundaries(explanation_image/255.0, mask)\n",
        "    plt.axis('off')\n",
        "    plt.imshow(img_boundry)\n",
        "\n",
        "def display_lime_explanation(explanation, image: np.ndarray, positive_only: bool = True, num_features: int = 5):\n",
        "    \"\"\"\n",
        "    From the LIME explanation object, generate and return the visualization image and mask overlay.\n",
        "\n",
        "    Parameters:\n",
        "        explanation: The LIME explanation object.\n",
        "        image (np.ndarray): The original image (H x W x C).\n",
        "        positive_only (bool): Whether to show only features that positively influence the prediction.\n",
        "        num_features (int): Number of superpixels to display.\n",
        "\n",
        "    Returns:\n",
        "        tuple: (explanation_image, mask) as produced by explanation.get_image_and_mask.\n",
        "    \"\"\"\n",
        "    # DONE: Call explanation.get_image_and_mask with appropriate parameters.\n",
        "    explanation_image, mask = explanation.get_image_and_mask(label=explanation.top_labels[0], positive_only=positive_only, num_features=num_features, hide_rest=False)\n",
        "\n",
        "    return explanation_image, mask\n"
      ]
    },
    {
      "cell_type": "markdown",
      "metadata": {
        "id": "iX_dOfeEbNrW"
      },
      "source": [
        "## Task 3: Extract Feature Importance <font color='green'>(1 point)</font>\n",
        "\n",
        "Implement a function that extracts a sorted list of feature (superpixel) contributions from the LIME explanation object. The function should return a list of tuples (feature_index, importance) sorted in descending order by importance."
      ]
    },
    {
      "cell_type": "code",
      "execution_count": 21,
      "metadata": {
        "id": "l4_wowyh9Wup"
      },
      "outputs": [],
      "source": [
        "def extract_feature_importance(explanation) -> list:\n",
        "    \"\"\"\n",
        "    Extract and return a sorted list of feature contributions from the LIME explanation object.\n",
        "\n",
        "    Returns:\n",
        "        List[tuple]: Each tuple contains (feature_index, importance) sorted by importance (descending).\n",
        "    \"\"\"\n",
        "    # DONE: Process the output to return a sorted list of tuples.\n",
        "    feature_importances = explanation.local_exp[explanation.top_labels[0]]\n",
        "    feature_importances = sorted(feature_importances, key=lambda x: x[1], reverse=True)\n",
        "\n",
        "    return feature_importances"
      ]
    },
    {
      "cell_type": "markdown",
      "metadata": {
        "id": "jIbnNRLCbNrX"
      },
      "source": [
        "## Task 4: Top 5 explanations from a pretrained ResNet model <font color='green'>(2 points)</font>\n",
        "\n",
        "Use a pretrained ResNet model to predict the image classes and generate LIME explanations for the top 5 classes."
      ]
    },
    {
      "cell_type": "code",
      "execution_count": 22,
      "metadata": {
        "colab": {
          "base_uri": "https://localhost:8080/"
        },
        "id": "UYL9lfQBbNrX",
        "outputId": "32bf39f6-e4a2-4e28-b872-ec48aad256a9"
      },
      "outputs": [
        {
          "output_type": "stream",
          "name": "stdout",
          "text": [
            "--2025-03-07 15:02:22--  https://github.com/marcotcr/lime/blob/master/doc/notebooks/data/imagenet_class_index.json?raw=true\n",
            "Resolving github.com (github.com)... 140.82.113.4\n",
            "Connecting to github.com (github.com)|140.82.113.4|:443... connected.\n",
            "HTTP request sent, awaiting response... 302 Found\n",
            "Location: https://github.com/marcotcr/lime/raw/refs/heads/master/doc/notebooks/data/imagenet_class_index.json [following]\n",
            "--2025-03-07 15:02:22--  https://github.com/marcotcr/lime/raw/refs/heads/master/doc/notebooks/data/imagenet_class_index.json\n",
            "Reusing existing connection to github.com:443.\n",
            "HTTP request sent, awaiting response... 302 Found\n",
            "Location: https://raw.githubusercontent.com/marcotcr/lime/refs/heads/master/doc/notebooks/data/imagenet_class_index.json [following]\n",
            "--2025-03-07 15:02:22--  https://raw.githubusercontent.com/marcotcr/lime/refs/heads/master/doc/notebooks/data/imagenet_class_index.json\n",
            "Resolving raw.githubusercontent.com (raw.githubusercontent.com)... 185.199.108.133, 185.199.109.133, 185.199.110.133, ...\n",
            "Connecting to raw.githubusercontent.com (raw.githubusercontent.com)|185.199.108.133|:443... connected.\n",
            "HTTP request sent, awaiting response... 200 OK\n",
            "Length: 35363 (35K) [text/plain]\n",
            "Saving to: ‘imagenet_class_index.json’\n",
            "\n",
            "imagenet_class_inde 100%[===================>]  34.53K  --.-KB/s    in 0.007s  \n",
            "\n",
            "2025-03-07 15:02:22 (4.80 MB/s) - ‘imagenet_class_index.json’ saved [35363/35363]\n",
            "\n"
          ]
        }
      ],
      "source": [
        "# Download ImageNet class label mappings\n",
        "!wget https://github.com/marcotcr/lime/blob/master/doc/notebooks/data/imagenet_class_index.json?raw=true -O imagenet_class_index.json"
      ]
    },
    {
      "cell_type": "code",
      "execution_count": 23,
      "metadata": {
        "id": "N4BHw5EAbNrY"
      },
      "outputs": [],
      "source": [
        "from torchvision import models\n",
        "import cv2\n",
        "\n",
        "def get_resnet_lime_explanations(image: np.ndarray):\n",
        "    \"\"\"\n",
        "    Use a pretrained ResNet model to predict the image classes and generate LIME explanations for the top 5 classes.\n",
        "\n",
        "    This function should:\n",
        "      1. Load a pretrained ResNet (e.g., ResNet18) from torchvision.\n",
        "      2. Apply necessary preprocessing to the image.\n",
        "      3. Obtain predictions and determine the top 5 classes.\n",
        "      4. For each of the top 5 classes, generate a LIME explanation using get_lime_explanation().\n",
        "      5. Return a dictionary mapping each top class label to its corresponding explanation visualization (image and mask).\n",
        "\n",
        "    Boilerplate (e.g., label list) is provided below.\n",
        "\n",
        "    Returns:\n",
        "        dict: {class_label: (explanation_image, mask), ...} for top 5 classes.\n",
        "    \"\"\"\n",
        "    # Predefined label list for demonstration (first 5 ImageNet classes).\n",
        "    imagenet_labels = json.load(open(\"imagenet_class_index.json\"))\n",
        "    imagenet_labels = {int(key): value[1] for key, value in imagenet_labels.items()}\n",
        "\n",
        "    # DONE: Load a pretrained ResNet18 model and set it to evaluation mode.\n",
        "    model = resnet18(weights=ResNet18_Weights.IMAGENET1K_V1).to(device)\n",
        "    model.eval()\n",
        "\n",
        "    # DONE: Generate LIME explanation for the image with top_labels=5.\n",
        "    explanation = get_lime_explanation(model, image, top_labels=5, num_samples=1000)\n",
        "\n",
        "    explanations = {}\n",
        "\n",
        "    # DONE: Extract the top 5 labels from the explanation.\n",
        "    top5_labels = explanation.top_labels\n",
        "    for label in top5_labels:\n",
        "        class_name = imagenet_labels.get(label, str(label))\n",
        "        # DONE: Extract visualization (image and mask).\n",
        "        expl_img, mask = display_lime_explanation(explanation, image, positive_only=True, num_features=5)\n",
        "        explanations[class_name] = (expl_img, mask)\n",
        "\n",
        "    return explanations\n"
      ]
    },
    {
      "cell_type": "markdown",
      "metadata": {
        "id": "g-LOVf2ibNrY"
      },
      "source": [
        "## Reflection Questions (answer in brief)  <font color='green'>(1 point each)</font>\n",
        "\n",
        "**Question 1:**  \n",
        "What are the main advantages of using LIME for explaining image classification models?  \n",
        "*Your Answer:*  "
      ]
    },
    {
      "cell_type": "markdown",
      "metadata": {
        "id": "P020pM3IbNrZ"
      },
      "source": [
        "The biggest advantage of using LIME for explaining image classification models is that it is model-agnostic. It can be applied to any classifier, regardless of its internal working. This makes the application incredibly versatile.\n",
        "\n",
        "It presents explanations in a human-presentable format, providing explanations specific to induvidual predictions which provide a lot of helpful insights depending on situation."
      ]
    },
    {
      "cell_type": "markdown",
      "metadata": {
        "id": "Flxtzt2QbNrZ"
      },
      "source": [
        "**Question 2:**  \n",
        "How does LIME generate local explanations for a model's prediction, and why is this approach considered model-agnostic?  \n",
        "*Your Answer:*  "
      ]
    },
    {
      "cell_type": "markdown",
      "metadata": {
        "id": "GcSV-9tEbNrZ"
      },
      "source": [
        "LIME generates local explanations for a model's prediction by perturbing input data and observing any resulting changes in the model's predictions. For example, in image classification, LIME creates multiple perturbed versions of the input image and evaluates how these perturbations affect the model's predictions.\n",
        "\n",
        "This approach is considered model-agnostic because it does not rely on the inner workings of the model being explained. Instead, it treats the model as a black box, giving it an input and recieving an output. This allows LIME to be used on any type of model, regardless of its architecture or the algorithm used to train it."
      ]
    },
    {
      "cell_type": "markdown",
      "metadata": {
        "id": "UKVAvY_nbNra"
      },
      "source": [
        "**Question 3:**  \n",
        "Discuss the trade-offs between model complexity and interpretability. How do these trade-offs impact both the performance of a model and its deployment in real-world, sensitive applications?\n",
        "*Your Answer:*"
      ]
    },
    {
      "cell_type": "markdown",
      "metadata": {
        "id": "fSM7MOL8bNra"
      },
      "source": [
        "Complex models such as deep neural networks, often achieve higher performance and accuracy but tend to be less interpretable. This makes it difficult to understand how they reach specific conclusions regarding data.\n",
        "\n",
        "However, the opposite is also possible, where simpler models (like linear regression or decision trees) are more interpretable and provide clear insights into how predictions are made. This can be un-viable for applications that require a more complex understanding of the data, however.\n",
        "\n",
        "This interpretability and transparency can be important in academia and economics, where understanding methology is vital to whether certain papers and findings are considered legitimate.\n",
        "\n",
        "It can also help developers keep up to speed with regulations, that might demand a certain level of interpretability of the application before it is allowed to enter the market."
      ]
    },
    {
      "cell_type": "markdown",
      "metadata": {
        "id": "vOiOvKxlbNra"
      },
      "source": [
        "---\n",
        "### Autograder\n",
        "\n",
        "Run this code cell at the end and do not change any code here."
      ]
    },
    {
      "cell_type": "code",
      "execution_count": 24,
      "metadata": {
        "colab": {
          "base_uri": "https://localhost:8080/",
          "height": 968,
          "referenced_widgets": [
            "01b020db250843239786394b38108cc8",
            "ca89725806c64b609301d6b8efc7ac30",
            "d56cde689b1546219b427413a61c100c",
            "ead52f3a9cc74926a6c2b759ada97dc3",
            "5961542670264676aeae20161b6c9b80",
            "6fc2a0e4a99140cbbca50c3e19e5b8dd",
            "050e528b446f46ecbbb9559e5d36714b",
            "a489d75130ea48cd900e574730f6ba53",
            "82f573b166c648f4b6eac14ebf2a1e55",
            "6a76f939e13a4f7b8acbdd7fe8879e02",
            "82fd7ba69a59461cb35a3f092e9887d0",
            "a95f81d6a2ae40dea2f57997586ae4d6",
            "fa6aa69d91cc462fb1e0f5fc5b421bdc",
            "8d2137f66f7347a6b1e08f145eb75f24",
            "87c380d3ffcc46e298d1d49a6255f763",
            "39fb0db86fd3409b952948105b2c338d",
            "af5480a719094c80a152270ce4d088f0",
            "9509149b1d3549dbbdc55583cfb3abd4",
            "2f8ebd7920d74faabd6351a090981173",
            "a81d42b7b1a140ef99f818c7cfc4d081",
            "a81f5721c9154db1a9c247e4c9ee47ff",
            "47450126285b49fcb10f6111b7612658"
          ]
        },
        "id": "3u_Ou70TbNra",
        "outputId": "168562bd-6bc3-4a20-d99a-d1440c3ac9ed"
      },
      "outputs": [
        {
          "output_type": "stream",
          "name": "stdout",
          "text": [
            "mkdir: cannot create directory ‘datasets’: File exists\n",
            "WARNING: combining -O with -r or -p will mean that all downloaded content\n",
            "will be placed in the single file you specified.\n",
            "\n",
            "--2025-03-07 15:02:23--  https://raw.githubusercontent.com/sprince0031/CS4445-AI-Practice/refs/heads/main/datasets/dog.jpg\n",
            "Resolving raw.githubusercontent.com (raw.githubusercontent.com)... 185.199.108.133, 185.199.111.133, 185.199.110.133, ...\n",
            "Connecting to raw.githubusercontent.com (raw.githubusercontent.com)|185.199.108.133|:443... connected.\n",
            "HTTP request sent, awaiting response... 200 OK\n",
            "Length: 47018 (46K) [image/jpeg]\n",
            "Saving to: ‘datasets/dog.jpg’\n",
            "\n",
            "datasets/dog.jpg    100%[===================>]  45.92K  --.-KB/s    in 0.007s  \n",
            "\n",
            "2025-03-07 15:02:23 (6.19 MB/s) - ‘datasets/dog.jpg’ saved [47018/47018]\n",
            "\n",
            "FINISHED --2025-03-07 15:02:23--\n",
            "Total wall clock time: 0.05s\n",
            "Downloaded: 1 files, 46K in 0.007s (6.19 MB/s)\n"
          ]
        },
        {
          "output_type": "display_data",
          "data": {
            "text/plain": [
              "  0%|          | 0/100 [00:00<?, ?it/s]"
            ],
            "application/vnd.jupyter.widget-view+json": {
              "version_major": 2,
              "version_minor": 0,
              "model_id": "01b020db250843239786394b38108cc8"
            }
          },
          "metadata": {}
        },
        {
          "output_type": "stream",
          "name": "stdout",
          "text": [
            "Task 1 (get_lime_explanation): Passed (2 points)\n",
            "Task 2 (display_lime_explanation): Passed (1 point)\n",
            "Task 3 (extract_feature_importance): Passed (1 point)\n"
          ]
        },
        {
          "output_type": "stream",
          "name": "stderr",
          "text": [
            "Downloading: \"https://download.pytorch.org/models/resnet18-f37072fd.pth\" to /root/.cache/torch/hub/checkpoints/resnet18-f37072fd.pth\n",
            "100%|██████████| 44.7M/44.7M [00:00<00:00, 170MB/s]\n"
          ]
        },
        {
          "output_type": "display_data",
          "data": {
            "text/plain": [
              "  0%|          | 0/1000 [00:00<?, ?it/s]"
            ],
            "application/vnd.jupyter.widget-view+json": {
              "version_major": 2,
              "version_minor": 0,
              "model_id": "a95f81d6a2ae40dea2f57997586ae4d6"
            }
          },
          "metadata": {}
        },
        {
          "output_type": "stream",
          "name": "stdout",
          "text": [
            "top 5 label predictions:\n",
            "1. basenji\n",
            "2. Boston_bull\n",
            "3. toy_terrier\n",
            "4. Ibizan_hound\n",
            "5. Italian_greyhound\n",
            "Task 4 (ResNet LIME Explanations): Passed (2 points)\n",
            "Total Code Score: 6 / 6\n",
            "Reflection Questions: 3 points (graded manually)\n"
          ]
        },
        {
          "output_type": "display_data",
          "data": {
            "text/plain": [
              "<Figure size 640x480 with 1 Axes>"
            ],
            "image/png": "[encoded data removed]"
          },
          "metadata": {}
        }
      ],
      "source": [
        "!mkdir datasets\n",
        "!wget -p https://raw.githubusercontent.com/sprince0031/CS4445-AI-Practice/refs/heads/main/datasets/dog.jpg -O datasets/dog.jpg\n",
        "\n",
        "# ================================\n",
        "# Pytest Tests for Challenge #7: LIME Explainability\n",
        "# ================================\n",
        "\n",
        "import pytest\n",
        "import numpy as np\n",
        "import torch.nn as nn\n",
        "\n",
        "def run_tests_and_accumulate_score():\n",
        "    total_code_points = 6  # Tasks 1-4: 2 + 1 + 1 + 2 = 6 points\n",
        "    score = 0\n",
        "\n",
        "    # Prepare dummy setup for testing:\n",
        "    # Create a dummy image (224 x 224 x 3) as a numpy array.\n",
        "    dummy_image = Image.open(\"datasets/dog.jpg\")\n",
        "    dummy_image = np.array(dummy_image)\n",
        "\n",
        "    # Dummy model for LIME explanation tests (for Task 1, 2, 3)\n",
        "    class DummyModel(nn.Module):\n",
        "        def __init__(self):\n",
        "            super(DummyModel, self).__init__()\n",
        "            self.flatten = nn.Flatten()\n",
        "            self.fc = nn.Linear(224*224*3, 2)  # Assume 2 classes for simplicity.\n",
        "        def forward(self, x):\n",
        "            x = self.flatten(x)\n",
        "            return torch.softmax(self.fc(x), dim=1)\n",
        "\n",
        "    dummy_model = DummyModel()\n",
        "\n",
        "    # ------------------------------\n",
        "    # Task 1: get_lime_explanation (2 points)\n",
        "    # ------------------------------\n",
        "    try:\n",
        "        explanation = get_lime_explanation(dummy_model, dummy_image, top_labels=2, num_samples=100)\n",
        "        assert explanation is not None, \"get_lime_explanation() returned None.\"\n",
        "        # Check for at least one expected method (as_list or get_image_and_mask).\n",
        "        has_method = hasattr(explanation, \"as_list\") or hasattr(explanation, \"get_image_and_mask\")\n",
        "        assert has_method, \"Explanation object lacks expected methods.\"\n",
        "        score += 2\n",
        "        print(\"Task 1 (get_lime_explanation): Passed (2 points)\")\n",
        "    except AssertionError as e:\n",
        "        print(\"Task 1 (get_lime_explanation): Failed -\", e)\n",
        "\n",
        "    # ------------------------------\n",
        "    # Task 2: display_lime_explanation (1 point)\n",
        "    # ------------------------------\n",
        "    try:\n",
        "        expl_img, mask = display_lime_explanation(explanation, dummy_image, positive_only=True, num_features=5)\n",
        "        assert expl_img is not None, \"display_lime_explanation() returned None for explanation image.\"\n",
        "        assert mask is not None, \"display_lime_explanation() returned None for mask.\"\n",
        "        assert isinstance(expl_img, np.ndarray), \"Explanation image should be a numpy array.\"\n",
        "        assert isinstance(mask, np.ndarray), \"Mask should be a numpy array.\"\n",
        "        score += 1\n",
        "        print(\"Task 2 (display_lime_explanation): Passed (1 point)\")\n",
        "    except AssertionError as e:\n",
        "        print(\"Task 2 (display_lime_explanation): Failed -\", e)\n",
        "\n",
        "    # ------------------------------\n",
        "    # Task 3: extract_feature_importance (1 point)\n",
        "    # ------------------------------\n",
        "    try:\n",
        "        feature_list = extract_feature_importance(explanation)\n",
        "        assert isinstance(feature_list, list), \"extract_feature_importance() should return a list.\"\n",
        "        if feature_list:\n",
        "            first_item = feature_list[0]\n",
        "            assert isinstance(first_item, tuple) and len(first_item) == 2, \"Each item should be a tuple (feature, importance).\"\n",
        "        score += 1\n",
        "        print(\"Task 3 (extract_feature_importance): Passed (1 point)\")\n",
        "    except AssertionError as e:\n",
        "        print(\"Task 3 (extract_feature_importance): Failed -\", e)\n",
        "\n",
        "    # ------------------------------\n",
        "    # Task 4: Pretrained ResNet LIME Explanations (2 points)\n",
        "    # ------------------------------\n",
        "    try:\n",
        "        explanations = get_resnet_lime_explanations(dummy_image)\n",
        "        assert isinstance(explanations, dict), \"get_resnet_lime_explanations() should return a dictionary.\"\n",
        "        # Expect 5 keys corresponding to top 5 classes.\n",
        "        assert len(explanations) == 5, \"Expected explanations for top 5 classes.\"\n",
        "        print('top 5 label predictions:')\n",
        "        for i, (label, (expl_img, mask)) in enumerate(explanations.items()):\n",
        "            assert isinstance(expl_img, np.ndarray), \"Explanation image should be a numpy array.\"\n",
        "            assert isinstance(mask, np.ndarray), \"Mask should be a numpy array.\"\n",
        "            print(f'{i+1}. {label}')\n",
        "            # plt.subplot(1, 5, i+1)\n",
        "        expl_img, mask = next(iter(explanations.values()))\n",
        "        visualiseExplanation(expl_img, mask)\n",
        "        score += 2\n",
        "        print(\"Task 4 (ResNet LIME Explanations): Passed (2 points)\")\n",
        "    except AssertionError as e:\n",
        "        print(\"Task 4 (ResNet LIME Explanations): Failed -\", e)\n",
        "\n",
        "    print(f\"Total Code Score: {score} / {total_code_points}\")\n",
        "\n",
        "    # Reflection questions are graded manually.\n",
        "    print(\"Reflection Questions: 3 points (graded manually)\")\n",
        "\n",
        "# Run the autograder.\n",
        "run_tests_and_accumulate_score()"
      ]
    }
  ],
  "metadata": {
    "accelerator": "GPU",
    "colab": {
      "gpuType": "T4",
      "provenance": [],
      "include_colab_link": true
    },
    "kernelspec": {
      "display_name": "Python 3",
      "name": "python3"
    },
    "language_info": {
      "name": "python"
    },
    "widgets": {
      "application/vnd.jupyter.widget-state+json": {
        "01b020db250843239786394b38108cc8": {
          "model_module": "@jupyter-widgets/controls",
          "model_name": "HBoxModel",
          "model_module_version": "1.5.0",
          "state": {
            "_dom_classes": [],
            "_model_module": "@jupyter-widgets/controls",
            "_model_module_version": "1.5.0",
            "_model_name": "HBoxModel",
            "_view_count": null,
            "_view_module": "@jupyter-widgets/controls",
            "_view_module_version": "1.5.0",
            "_view_name": "HBoxView",
            "box_style": "",
            "children": [
              "IPY_MODEL_ca89725806c64b609301d6b8efc7ac30",
              "IPY_MODEL_d56cde689b1546219b427413a61c100c",
              "IPY_MODEL_ead52f3a9cc74926a6c2b759ada97dc3"
            ],
            "layout": "IPY_MODEL_5961542670264676aeae20161b6c9b80"
          }
        },
        "ca89725806c64b609301d6b8efc7ac30": {
          "model_module": "@jupyter-widgets/controls",
          "model_name": "HTMLModel",
          "model_module_version": "1.5.0",
          "state": {
            "_dom_classes": [],
            "_model_module": "@jupyter-widgets/controls",
            "_model_module_version": "1.5.0",
            "_model_name": "HTMLModel",
            "_view_count": null,
            "_view_module": "@jupyter-widgets/controls",
            "_view_module_version": "1.5.0",
            "_view_name": "HTMLView",
            "description": "",
            "description_tooltip": null,
            "layout": "IPY_MODEL_6fc2a0e4a99140cbbca50c3e19e5b8dd",
            "placeholder": "​",
            "style": "IPY_MODEL_050e528b446f46ecbbb9559e5d36714b",
            "value": "100%"
          }
        },
        "d56cde689b1546219b427413a61c100c": {
          "model_module": "@jupyter-widgets/controls",
          "model_name": "FloatProgressModel",
          "model_module_version": "1.5.0",
          "state": {
            "_dom_classes": [],
            "_model_module": "@jupyter-widgets/controls",
            "_model_module_version": "1.5.0",
            "_model_name": "FloatProgressModel",
            "_view_count": null,
            "_view_module": "@jupyter-widgets/controls",
            "_view_module_version": "1.5.0",
            "_view_name": "ProgressView",
            "bar_style": "success",
            "description": "",
            "description_tooltip": null,
            "layout": "IPY_MODEL_a489d75130ea48cd900e574730f6ba53",
            "max": 100,
            "min": 0,
            "orientation": "horizontal",
            "style": "IPY_MODEL_82f573b166c648f4b6eac14ebf2a1e55",
            "value": 100
          }
        },
        "ead52f3a9cc74926a6c2b759ada97dc3": {
          "model_module": "@jupyter-widgets/controls",
          "model_name": "HTMLModel",
          "model_module_version": "1.5.0",
          "state": {
            "_dom_classes": [],
            "_model_module": "@jupyter-widgets/controls",
            "_model_module_version": "1.5.0",
            "_model_name": "HTMLModel",
            "_view_count": null,
            "_view_module": "@jupyter-widgets/controls",
            "_view_module_version": "1.5.0",
            "_view_name": "HTMLView",
            "description": "",
            "description_tooltip": null,
            "layout": "IPY_MODEL_6a76f939e13a4f7b8acbdd7fe8879e02",
            "placeholder": "​",
            "style": "IPY_MODEL_82fd7ba69a59461cb35a3f092e9887d0",
            "value": " 100/100 [00:09&lt;00:00, 11.34it/s]"
          }
        },
        "5961542670264676aeae20161b6c9b80": {
          "model_module": "@jupyter-widgets/base",
          "model_name": "LayoutModel",
          "model_module_version": "1.2.0",
          "state": {
            "_model_module": "@jupyter-widgets/base",
            "_model_module_version": "1.2.0",
            "_model_name": "LayoutModel",
            "_view_count": null,
            "_view_module": "@jupyter-widgets/base",
            "_view_module_version": "1.2.0",
            "_view_name": "LayoutView",
            "align_content": null,
            "align_items": null,
            "align_self": null,
            "border": null,
            "bottom": null,
            "display": null,
            "flex": null,
            "flex_flow": null,
            "grid_area": null,
            "grid_auto_columns": null,
            "grid_auto_flow": null,
            "grid_auto_rows": null,
            "grid_column": null,
            "grid_gap": null,
            "grid_row": null,
            "grid_template_areas": null,
            "grid_template_columns": null,
            "grid_template_rows": null,
            "height": null,
            "justify_content": null,
            "justify_items": null,
            "left": null,
            "margin": null,
            "max_height": null,
            "max_width": null,
            "min_height": null,
            "min_width": null,
            "object_fit": null,
            "object_position": null,
            "order": null,
            "overflow": null,
            "overflow_x": null,
            "overflow_y": null,
            "padding": null,
            "right": null,
            "top": null,
            "visibility": null,
            "width": null
          }
        },
        "6fc2a0e4a99140cbbca50c3e19e5b8dd": {
          "model_module": "@jupyter-widgets/base",
          "model_name": "LayoutModel",
          "model_module_version": "1.2.0",
          "state": {
            "_model_module": "@jupyter-widgets/base",
            "_model_module_version": "1.2.0",
            "_model_name": "LayoutModel",
            "_view_count": null,
            "_view_module": "@jupyter-widgets/base",
            "_view_module_version": "1.2.0",
            "_view_name": "LayoutView",
            "align_content": null,
            "align_items": null,
            "align_self": null,
            "border": null,
            "bottom": null,
            "display": null,
            "flex": null,
            "flex_flow": null,
            "grid_area": null,
            "grid_auto_columns": null,
            "grid_auto_flow": null,
            "grid_auto_rows": null,
            "grid_column": null,
            "grid_gap": null,
            "grid_row": null,
            "grid_template_areas": null,
            "grid_template_columns": null,
            "grid_template_rows": null,
            "height": null,
            "justify_content": null,
            "justify_items": null,
            "left": null,
            "margin": null,
            "max_height": null,
            "max_width": null,
            "min_height": null,
            "min_width": null,
            "object_fit": null,
            "object_position": null,
            "order": null,
            "overflow": null,
            "overflow_x": null,
            "overflow_y": null,
            "padding": null,
            "right": null,
            "top": null,
            "visibility": null,
            "width": null
          }
        },
        "050e528b446f46ecbbb9559e5d36714b": {
          "model_module": "@jupyter-widgets/controls",
          "model_name": "DescriptionStyleModel",
          "model_module_version": "1.5.0",
          "state": {
            "_model_module": "@jupyter-widgets/controls",
            "_model_module_version": "1.5.0",
            "_model_name": "DescriptionStyleModel",
            "_view_count": null,
            "_view_module": "@jupyter-widgets/base",
            "_view_module_version": "1.2.0",
            "_view_name": "StyleView",
            "description_width": ""
          }
        },
        "a489d75130ea48cd900e574730f6ba53": {
          "model_module": "@jupyter-widgets/base",
          "model_name": "LayoutModel",
          "model_module_version": "1.2.0",
          "state": {
            "_model_module": "@jupyter-widgets/base",
            "_model_module_version": "1.2.0",
            "_model_name": "LayoutModel",
            "_view_count": null,
            "_view_module": "@jupyter-widgets/base",
            "_view_module_version": "1.2.0",
            "_view_name": "LayoutView",
            "align_content": null,
            "align_items": null,
            "align_self": null,
            "border": null,
            "bottom": null,
            "display": null,
            "flex": null,
            "flex_flow": null,
            "grid_area": null,
            "grid_auto_columns": null,
            "grid_auto_flow": null,
            "grid_auto_rows": null,
            "grid_column": null,
            "grid_gap": null,
            "grid_row": null,
            "grid_template_areas": null,
            "grid_template_columns": null,
            "grid_template_rows": null,
            "height": null,
            "justify_content": null,
            "justify_items": null,
            "left": null,
            "margin": null,
            "max_height": null,
            "max_width": null,
            "min_height": null,
            "min_width": null,
            "object_fit": null,
            "object_position": null,
            "order": null,
            "overflow": null,
            "overflow_x": null,
            "overflow_y": null,
            "padding": null,
            "right": null,
            "top": null,
            "visibility": null,
            "width": null
          }
        },
        "82f573b166c648f4b6eac14ebf2a1e55": {
          "model_module": "@jupyter-widgets/controls",
          "model_name": "ProgressStyleModel",
          "model_module_version": "1.5.0",
          "state": {
            "_model_module": "@jupyter-widgets/controls",
            "_model_module_version": "1.5.0",
            "_model_name": "ProgressStyleModel",
            "_view_count": null,
            "_view_module": "@jupyter-widgets/base",
            "_view_module_version": "1.2.0",
            "_view_name": "StyleView",
            "bar_color": null,
            "description_width": ""
          }
        },
        "6a76f939e13a4f7b8acbdd7fe8879e02": {
          "model_module": "@jupyter-widgets/base",
          "model_name": "LayoutModel",
          "model_module_version": "1.2.0",
          "state": {
            "_model_module": "@jupyter-widgets/base",
            "_model_module_version": "1.2.0",
            "_model_name": "LayoutModel",
            "_view_count": null,
            "_view_module": "@jupyter-widgets/base",
            "_view_module_version": "1.2.0",
            "_view_name": "LayoutView",
            "align_content": null,
            "align_items": null,
            "align_self": null,
            "border": null,
            "bottom": null,
            "display": null,
            "flex": null,
            "flex_flow": null,
            "grid_area": null,
            "grid_auto_columns": null,
            "grid_auto_flow": null,
            "grid_auto_rows": null,
            "grid_column": null,
            "grid_gap": null,
            "grid_row": null,
            "grid_template_areas": null,
            "grid_template_columns": null,
            "grid_template_rows": null,
            "height": null,
            "justify_content": null,
            "justify_items": null,
            "left": null,
            "margin": null,
            "max_height": null,
            "max_width": null,
            "min_height": null,
            "min_width": null,
            "object_fit": null,
            "object_position": null,
            "order": null,
            "overflow": null,
            "overflow_x": null,
            "overflow_y": null,
            "padding": null,
            "right": null,
            "top": null,
            "visibility": null,
            "width": null
          }
        },
        "82fd7ba69a59461cb35a3f092e9887d0": {
          "model_module": "@jupyter-widgets/controls",
          "model_name": "DescriptionStyleModel",
          "model_module_version": "1.5.0",
          "state": {
            "_model_module": "@jupyter-widgets/controls",
            "_model_module_version": "1.5.0",
            "_model_name": "DescriptionStyleModel",
            "_view_count": null,
            "_view_module": "@jupyter-widgets/base",
            "_view_module_version": "1.2.0",
            "_view_name": "StyleView",
            "description_width": ""
          }
        },
        "a95f81d6a2ae40dea2f57997586ae4d6": {
          "model_module": "@jupyter-widgets/controls",
          "model_name": "HBoxModel",
          "model_module_version": "1.5.0",
          "state": {
            "_dom_classes": [],
            "_model_module": "@jupyter-widgets/controls",
            "_model_module_version": "1.5.0",
            "_model_name": "HBoxModel",
            "_view_count": null,
            "_view_module": "@jupyter-widgets/controls",
            "_view_module_version": "1.5.0",
            "_view_name": "HBoxView",
            "box_style": "",
            "children": [
              "IPY_MODEL_fa6aa69d91cc462fb1e0f5fc5b421bdc",
              "IPY_MODEL_8d2137f66f7347a6b1e08f145eb75f24",
              "IPY_MODEL_87c380d3ffcc46e298d1d49a6255f763"
            ],
            "layout": "IPY_MODEL_39fb0db86fd3409b952948105b2c338d"
          }
        },
        "fa6aa69d91cc462fb1e0f5fc5b421bdc": {
          "model_module": "@jupyter-widgets/controls",
          "model_name": "HTMLModel",
          "model_module_version": "1.5.0",
          "state": {
            "_dom_classes": [],
            "_model_module": "@jupyter-widgets/controls",
            "_model_module_version": "1.5.0",
            "_model_name": "HTMLModel",
            "_view_count": null,
            "_view_module": "@jupyter-widgets/controls",
            "_view_module_version": "1.5.0",
            "_view_name": "HTMLView",
            "description": "",
            "description_tooltip": null,
            "layout": "IPY_MODEL_af5480a719094c80a152270ce4d088f0",
            "placeholder": "​",
            "style": "IPY_MODEL_9509149b1d3549dbbdc55583cfb3abd4",
            "value": "100%"
          }
        },
        "8d2137f66f7347a6b1e08f145eb75f24": {
          "model_module": "@jupyter-widgets/controls",
          "model_name": "FloatProgressModel",
          "model_module_version": "1.5.0",
          "state": {
            "_dom_classes": [],
            "_model_module": "@jupyter-widgets/controls",
            "_model_module_version": "1.5.0",
            "_model_name": "FloatProgressModel",
            "_view_count": null,
            "_view_module": "@jupyter-widgets/controls",
            "_view_module_version": "1.5.0",
            "_view_name": "ProgressView",
            "bar_style": "success",
            "description": "",
            "description_tooltip": null,
            "layout": "IPY_MODEL_2f8ebd7920d74faabd6351a090981173",
            "max": 1000,
            "min": 0,
            "orientation": "horizontal",
            "style": "IPY_MODEL_a81d42b7b1a140ef99f818c7cfc4d081",
            "value": 1000
          }
        },
        "87c380d3ffcc46e298d1d49a6255f763": {
          "model_module": "@jupyter-widgets/controls",
          "model_name": "HTMLModel",
          "model_module_version": "1.5.0",
          "state": {
            "_dom_classes": [],
            "_model_module": "@jupyter-widgets/controls",
            "_model_module_version": "1.5.0",
            "_model_name": "HTMLModel",
            "_view_count": null,
            "_view_module": "@jupyter-widgets/controls",
            "_view_module_version": "1.5.0",
            "_view_name": "HTMLView",
            "description": "",
            "description_tooltip": null,
            "layout": "IPY_MODEL_a81f5721c9154db1a9c247e4c9ee47ff",
            "placeholder": "​",
            "style": "IPY_MODEL_47450126285b49fcb10f6111b7612658",
            "value": " 1000/1000 [01:35&lt;00:00,  7.21it/s]"
          }
        },
        "39fb0db86fd3409b952948105b2c338d": {
          "model_module": "@jupyter-widgets/base",
          "model_name": "LayoutModel",
          "model_module_version": "1.2.0",
          "state": {
            "_model_module": "@jupyter-widgets/base",
            "_model_module_version": "1.2.0",
            "_model_name": "LayoutModel",
            "_view_count": null,
            "_view_module": "@jupyter-widgets/base",
            "_view_module_version": "1.2.0",
            "_view_name": "LayoutView",
            "align_content": null,
            "align_items": null,
            "align_self": null,
            "border": null,
            "bottom": null,
            "display": null,
            "flex": null,
            "flex_flow": null,
            "grid_area": null,
            "grid_auto_columns": null,
            "grid_auto_flow": null,
            "grid_auto_rows": null,
            "grid_column": null,
            "grid_gap": null,
            "grid_row": null,
            "grid_template_areas": null,
            "grid_template_columns": null,
            "grid_template_rows": null,
            "height": null,
            "justify_content": null,
            "justify_items": null,
            "left": null,
            "margin": null,
            "max_height": null,
            "max_width": null,
            "min_height": null,
            "min_width": null,
            "object_fit": null,
            "object_position": null,
            "order": null,
            "overflow": null,
            "overflow_x": null,
            "overflow_y": null,
            "padding": null,
            "right": null,
            "top": null,
            "visibility": null,
            "width": null
          }
        },
        "af5480a719094c80a152270ce4d088f0": {
          "model_module": "@jupyter-widgets/base",
          "model_name": "LayoutModel",
          "model_module_version": "1.2.0",
          "state": {
            "_model_module": "@jupyter-widgets/base",
            "_model_module_version": "1.2.0",
            "_model_name": "LayoutModel",
            "_view_count": null,
            "_view_module": "@jupyter-widgets/base",
            "_view_module_version": "1.2.0",
            "_view_name": "LayoutView",
            "align_content": null,
            "align_items": null,
            "align_self": null,
            "border": null,
            "bottom": null,
            "display": null,
            "flex": null,
            "flex_flow": null,
            "grid_area": null,
            "grid_auto_columns": null,
            "grid_auto_flow": null,
            "grid_auto_rows": null,
            "grid_column": null,
            "grid_gap": null,
            "grid_row": null,
            "grid_template_areas": null,
            "grid_template_columns": null,
            "grid_template_rows": null,
            "height": null,
            "justify_content": null,
            "justify_items": null,
            "left": null,
            "margin": null,
            "max_height": null,
            "max_width": null,
            "min_height": null,
            "min_width": null,
            "object_fit": null,
            "object_position": null,
            "order": null,
            "overflow": null,
            "overflow_x": null,
            "overflow_y": null,
            "padding": null,
            "right": null,
            "top": null,
            "visibility": null,
            "width": null
          }
        },
        "9509149b1d3549dbbdc55583cfb3abd4": {
          "model_module": "@jupyter-widgets/controls",
          "model_name": "DescriptionStyleModel",
          "model_module_version": "1.5.0",
          "state": {
            "_model_module": "@jupyter-widgets/controls",
            "_model_module_version": "1.5.0",
            "_model_name": "DescriptionStyleModel",
            "_view_count": null,
            "_view_module": "@jupyter-widgets/base",
            "_view_module_version": "1.2.0",
            "_view_name": "StyleView",
            "description_width": ""
          }
        },
        "2f8ebd7920d74faabd6351a090981173": {
          "model_module": "@jupyter-widgets/base",
          "model_name": "LayoutModel",
          "model_module_version": "1.2.0",
          "state": {
            "_model_module": "@jupyter-widgets/base",
            "_model_module_version": "1.2.0",
            "_model_name": "LayoutModel",
            "_view_count": null,
            "_view_module": "@jupyter-widgets/base",
            "_view_module_version": "1.2.0",
            "_view_name": "LayoutView",
            "align_content": null,
            "align_items": null,
            "align_self": null,
            "border": null,
            "bottom": null,
            "display": null,
            "flex": null,
            "flex_flow": null,
            "grid_area": null,
            "grid_auto_columns": null,
            "grid_auto_flow": null,
            "grid_auto_rows": null,
            "grid_column": null,
            "grid_gap": null,
            "grid_row": null,
            "grid_template_areas": null,
            "grid_template_columns": null,
            "grid_template_rows": null,
            "height": null,
            "justify_content": null,
            "justify_items": null,
            "left": null,
            "margin": null,
            "max_height": null,
            "max_width": null,
            "min_height": null,
            "min_width": null,
            "object_fit": null,
            "object_position": null,
            "order": null,
            "overflow": null,
            "overflow_x": null,
            "overflow_y": null,
            "padding": null,
            "right": null,
            "top": null,
            "visibility": null,
            "width": null
          }
        },
        "a81d42b7b1a140ef99f818c7cfc4d081": {
          "model_module": "@jupyter-widgets/controls",
          "model_name": "ProgressStyleModel",
          "model_module_version": "1.5.0",
          "state": {
            "_model_module": "@jupyter-widgets/controls",
            "_model_module_version": "1.5.0",
            "_model_name": "ProgressStyleModel",
            "_view_count": null,
            "_view_module": "@jupyter-widgets/base",
            "_view_module_version": "1.2.0",
            "_view_name": "StyleView",
            "bar_color": null,
            "description_width": ""
          }
        },
        "a81f5721c9154db1a9c247e4c9ee47ff": {
          "model_module": "@jupyter-widgets/base",
          "model_name": "LayoutModel",
          "model_module_version": "1.2.0",
          "state": {
            "_model_module": "@jupyter-widgets/base",
            "_model_module_version": "1.2.0",
            "_model_name": "LayoutModel",
            "_view_count": null,
            "_view_module": "@jupyter-widgets/base",
            "_view_module_version": "1.2.0",
            "_view_name": "LayoutView",
            "align_content": null,
            "align_items": null,
            "align_self": null,
            "border": null,
            "bottom": null,
            "display": null,
            "flex": null,
            "flex_flow": null,
            "grid_area": null,
            "grid_auto_columns": null,
            "grid_auto_flow": null,
            "grid_auto_rows": null,
            "grid_column": null,
            "grid_gap": null,
            "grid_row": null,
            "grid_template_areas": null,
            "grid_template_columns": null,
            "grid_template_rows": null,
            "height": null,
            "justify_content": null,
            "justify_items": null,
            "left": null,
            "margin": null,
            "max_height": null,
            "max_width": null,
            "min_height": null,
            "min_width": null,
            "object_fit": null,
            "object_position": null,
            "order": null,
            "overflow": null,
            "overflow_x": null,
            "overflow_y": null,
            "padding": null,
            "right": null,
            "top": null,
            "visibility": null,
            "width": null
          }
        },
        "47450126285b49fcb10f6111b7612658": {
          "model_module": "@jupyter-widgets/controls",
          "model_name": "DescriptionStyleModel",
          "model_module_version": "1.5.0",
          "state": {
            "_model_module": "@jupyter-widgets/controls",
            "_model_module_version": "1.5.0",
            "_model_name": "DescriptionStyleModel",
            "_view_count": null,
            "_view_module": "@jupyter-widgets/base",
            "_view_module_version": "1.2.0",
            "_view_name": "StyleView",
            "description_width": ""
          }
        }
      }
    }
  },
  "nbformat": 4,
  "nbformat_minor": 0
}